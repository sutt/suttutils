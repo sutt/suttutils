{
 "cells": [
  {
   "cell_type": "code",
   "execution_count": 4,
   "metadata": {},
   "outputs": [],
   "source": [
    "import sys\n",
    "sys.path.append('../')"
   ]
  },
  {
   "cell_type": "code",
   "execution_count": 5,
   "metadata": {},
   "outputs": [],
   "source": [
    "from suttutils.utils import walk_match"
   ]
  },
  {
   "cell_type": "code",
   "execution_count": 4,
   "metadata": {},
   "outputs": [
    {
     "name": "stdout",
     "output_type": "stream",
     "text": [
      "['models', 'detection', 'faster_rcnn']\n",
      "['models', 'detection', 'faster_rcnn', 'fasterrcnn_resnet50_fpn']\n",
      "['models', 'detection', 'fasterrcnn_resnet50_fpn']\n",
      "['models', 'detection', 'generalized_rcnn']\n",
      "['models', 'detection', 'keypoint_rcnn']\n",
      "['models', 'detection', 'keypoint_rcnn', 'keypointrcnn_resnet50_fpn']\n",
      "['models', 'detection', 'keypointrcnn_resnet50_fpn']\n",
      "['models', 'detection', 'mask_rcnn']\n",
      "['models', 'detection', 'mask_rcnn', 'maskrcnn_resnet50_fpn']\n",
      "['models', 'detection', 'maskrcnn_resnet50_fpn']\n",
      "['models', 'detection', 'roi_heads', 'fastrcnn_loss']\n",
      "['models', 'detection', 'roi_heads', 'keypointrcnn_inference']\n",
      "['models', 'detection', 'roi_heads', 'keypointrcnn_loss']\n",
      "['models', 'detection', 'roi_heads', 'maskrcnn_inference']\n",
      "['models', 'detection', 'roi_heads', 'maskrcnn_loss']\n"
     ]
    }
   ],
   "source": [
    "_ = walk_match('cnn', 'torchvision', )"
   ]
  },
  {
   "cell_type": "code",
   "execution_count": 6,
   "metadata": {},
   "outputs": [
    {
     "name": "stdout",
     "output_type": "stream",
     "text": [
      "['analysis', 'Token']\n",
      "['gold', 'util', 'DummyTokenizer']\n",
      "['lang', 'punctuation', 'TOKENIZER_INFIXES']\n",
      "['lang', 'punctuation', 'TOKENIZER_PREFIXES']\n",
      "['lang', 'punctuation', 'TOKENIZER_SUFFIXES']\n",
      "['lang', 'tokenizer_exceptions']\n",
      "['lang', 'tokenizer_exceptions', 'TOKEN_MATCH']\n",
      "['language', 'TOKENIZER_INFIXES']\n",
      "['language', 'TOKENIZER_PREFIXES']\n",
      "['language', 'TOKENIZER_SUFFIXES']\n",
      "['language', 'TOKEN_MATCH']\n",
      "['language', 'Tokenizer']\n",
      "['language', 'util', 'DummyTokenizer']\n",
      "['matcher', 'matcher', 'TOKEN_PATTERN_SCHEMA']\n",
      "['matcher', 'phrasematcher', 'TOKEN_PATTERN_SCHEMA']\n",
      "['pipeline', 'functions', 'merge_subtokens']\n",
      "['pipeline', 'merge_subtokens']\n",
      "['pipeline', 'morphologizer', 'util', 'DummyTokenizer']\n",
      "['strings', 'util', 'DummyTokenizer']\n",
      "['syntax', 'nn_parser', 'util', 'DummyTokenizer']\n",
      "['syntax', 'transition_system', 'util', 'DummyTokenizer']\n",
      "['tokenizer']\n",
      "['tokenizer', 'Tokenizer']\n",
      "['tokenizer', 'util', 'DummyTokenizer']\n",
      "['tokens']\n",
      "['tokens', 'Token']\n",
      "['tokens', 'doc', 'Retokenizer']\n",
      "['tokens', 'doc', 'util', 'DummyTokenizer']\n",
      "['tokens', 'token']\n",
      "['tokens', 'token', 'Token']\n",
      "['tokens', 'token', 'util', 'DummyTokenizer']\n",
      "['util', 'DummyTokenizer']\n",
      "['vectors', 'util', 'DummyTokenizer']\n",
      "['vocab', 'util', 'DummyTokenizer']\n"
     ]
    }
   ],
   "source": [
    "matches = walk_match('token', 'spacy', b_case_sensitive=False)"
   ]
  },
  {
   "cell_type": "code",
   "execution_count": null,
   "metadata": {},
   "outputs": [],
   "source": []
  }
 ],
 "metadata": {
  "kernelspec": {
   "display_name": "Python 3.7.9 64-bit ('devfastai': conda)",
   "language": "python",
   "name": "python37964bitdevfastaiconda0e0ad516d6eb4524903af3a3c31253d3"
  },
  "language_info": {
   "codemirror_mode": {
    "name": "ipython",
    "version": 3
   },
   "file_extension": ".py",
   "mimetype": "text/x-python",
   "name": "python",
   "nbconvert_exporter": "python",
   "pygments_lexer": "ipython3",
   "version": "3.7.9"
  }
 },
 "nbformat": 4,
 "nbformat_minor": 4
}
