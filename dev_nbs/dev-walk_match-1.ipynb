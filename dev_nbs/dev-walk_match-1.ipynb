{
 "cells": [
  {
   "cell_type": "code",
   "execution_count": 190,
   "metadata": {},
   "outputs": [],
   "source": [
    "import importlib\n",
    "import types\n",
    "import copy\n",
    "import os\n",
    "import site\n",
    "import distutils.sysconfig as sysconfig"
   ]
  },
  {
   "cell_type": "code",
   "execution_count": null,
   "metadata": {},
   "outputs": [],
   "source": [
    "# import spacy\n",
    "# from spacy import tokenizer\n",
    "# from spacy.tokenizer import Tokenizer"
   ]
  },
  {
   "cell_type": "code",
   "execution_count": 69,
   "metadata": {},
   "outputs": [],
   "source": [
    "lib_name = 'spacy'\n",
    "lib = importlib.import_module(lib_name)"
   ]
  },
  {
   "cell_type": "code",
   "execution_count": 92,
   "metadata": {},
   "outputs": [],
   "source": [
    "def recurse_getattr(base, list_attrs):\n",
    "    \n",
    "    attrs = copy.copy(list_attrs)\n",
    "    \n",
    "    if len(list_attrs) == 0: return base\n",
    "    \n",
    "    while(len(attrs) > 0):\n",
    "        sub_attr = attrs.pop(0)\n",
    "        try: \n",
    "            base = getattr(base, sub_attr)\n",
    "        except:\n",
    "            print(sub_attr)\n",
    "            raise Exception('FailedGetAttr')\n",
    "            \n",
    "    return base    "
   ]
  },
  {
   "cell_type": "markdown",
   "metadata": {},
   "source": [
    "#### Testing"
   ]
  },
  {
   "cell_type": "code",
   "execution_count": 93,
   "metadata": {},
   "outputs": [
    {
     "data": {
      "text/plain": [
       "<module 'spacy' from '/home/user/anaconda3/envs/devfastai/lib/python3.7/site-packages/spacy/__init__.py'>"
      ]
     },
     "execution_count": 93,
     "metadata": {},
     "output_type": "execute_result"
    }
   ],
   "source": [
    "list_objs = []\n",
    "ret = recurse_getattr(lib, list_objs)\n",
    "ret"
   ]
  },
  {
   "cell_type": "code",
   "execution_count": 94,
   "metadata": {},
   "outputs": [
    {
     "data": {
      "text/plain": [
       "<module 'spacy.tokenizer' from '/home/user/anaconda3/envs/devfastai/lib/python3.7/site-packages/spacy/tokenizer.cpython-37m-x86_64-linux-gnu.so'>"
      ]
     },
     "execution_count": 94,
     "metadata": {},
     "output_type": "execute_result"
    }
   ],
   "source": [
    "list_objs = ['tokenizer']\n",
    "ret = recurse_getattr(lib, list_objs)\n",
    "ret"
   ]
  },
  {
   "cell_type": "code",
   "execution_count": 95,
   "metadata": {},
   "outputs": [
    {
     "data": {
      "text/plain": [
       "spacy.tokenizer.Tokenizer"
      ]
     },
     "execution_count": 95,
     "metadata": {},
     "output_type": "execute_result"
    }
   ],
   "source": [
    "list_objs = ['tokenizer', 'Tokenizer']\n",
    "ret = recurse_getattr(lib, list_objs)\n",
    "ret"
   ]
  },
  {
   "cell_type": "code",
   "execution_count": 96,
   "metadata": {
    "collapsed": true
   },
   "outputs": [
    {
     "name": "stdout",
     "output_type": "stream",
     "text": [
      "crappy_input\n"
     ]
    },
    {
     "ename": "Exception",
     "evalue": "FailedGetAttr",
     "output_type": "error",
     "traceback": [
      "\u001b[0;31m---------------------------------------------------------------------------\u001b[0m",
      "\u001b[0;31mAttributeError\u001b[0m                            Traceback (most recent call last)",
      "\u001b[0;32m<ipython-input-92-62f4280f095b>\u001b[0m in \u001b[0;36mrecurse_getattr\u001b[0;34m(base, list_attrs)\u001b[0m\n\u001b[1;32m      9\u001b[0m         \u001b[0;32mtry\u001b[0m\u001b[0;34m:\u001b[0m\u001b[0;34m\u001b[0m\u001b[0;34m\u001b[0m\u001b[0m\n\u001b[0;32m---> 10\u001b[0;31m             \u001b[0mbase\u001b[0m \u001b[0;34m=\u001b[0m \u001b[0mgetattr\u001b[0m\u001b[0;34m(\u001b[0m\u001b[0mbase\u001b[0m\u001b[0;34m,\u001b[0m \u001b[0msub_attr\u001b[0m\u001b[0;34m)\u001b[0m\u001b[0;34m\u001b[0m\u001b[0;34m\u001b[0m\u001b[0m\n\u001b[0m\u001b[1;32m     11\u001b[0m         \u001b[0;32mexcept\u001b[0m\u001b[0;34m:\u001b[0m\u001b[0;34m\u001b[0m\u001b[0;34m\u001b[0m\u001b[0m\n",
      "\u001b[0;31mAttributeError\u001b[0m: module 'spacy' has no attribute 'crappy_input'",
      "\nDuring handling of the above exception, another exception occurred:\n",
      "\u001b[0;31mException\u001b[0m                                 Traceback (most recent call last)",
      "\u001b[0;32m<ipython-input-96-5ca0f1abd567>\u001b[0m in \u001b[0;36m<module>\u001b[0;34m\u001b[0m\n\u001b[1;32m      1\u001b[0m \u001b[0mlist_objs\u001b[0m \u001b[0;34m=\u001b[0m \u001b[0;34m[\u001b[0m\u001b[0;34m'crappy_input'\u001b[0m\u001b[0;34m]\u001b[0m\u001b[0;34m\u001b[0m\u001b[0;34m\u001b[0m\u001b[0m\n\u001b[0;32m----> 2\u001b[0;31m \u001b[0mret\u001b[0m \u001b[0;34m=\u001b[0m \u001b[0mrecurse_getattr\u001b[0m\u001b[0;34m(\u001b[0m\u001b[0mlib\u001b[0m\u001b[0;34m,\u001b[0m \u001b[0mlist_objs\u001b[0m\u001b[0;34m)\u001b[0m\u001b[0;34m\u001b[0m\u001b[0;34m\u001b[0m\u001b[0m\n\u001b[0m\u001b[1;32m      3\u001b[0m \u001b[0mret\u001b[0m\u001b[0;34m\u001b[0m\u001b[0;34m\u001b[0m\u001b[0m\n",
      "\u001b[0;32m<ipython-input-92-62f4280f095b>\u001b[0m in \u001b[0;36mrecurse_getattr\u001b[0;34m(base, list_attrs)\u001b[0m\n\u001b[1;32m     11\u001b[0m         \u001b[0;32mexcept\u001b[0m\u001b[0;34m:\u001b[0m\u001b[0;34m\u001b[0m\u001b[0;34m\u001b[0m\u001b[0m\n\u001b[1;32m     12\u001b[0m             \u001b[0mprint\u001b[0m\u001b[0;34m(\u001b[0m\u001b[0msub_attr\u001b[0m\u001b[0;34m)\u001b[0m\u001b[0;34m\u001b[0m\u001b[0;34m\u001b[0m\u001b[0m\n\u001b[0;32m---> 13\u001b[0;31m             \u001b[0;32mraise\u001b[0m \u001b[0mException\u001b[0m\u001b[0;34m(\u001b[0m\u001b[0;34m'FailedGetAttr'\u001b[0m\u001b[0;34m)\u001b[0m\u001b[0;34m\u001b[0m\u001b[0;34m\u001b[0m\u001b[0m\n\u001b[0m\u001b[1;32m     14\u001b[0m \u001b[0;34m\u001b[0m\u001b[0m\n\u001b[1;32m     15\u001b[0m     \u001b[0;32mreturn\u001b[0m \u001b[0mbase\u001b[0m\u001b[0;34m\u001b[0m\u001b[0;34m\u001b[0m\u001b[0m\n",
      "\u001b[0;31mException\u001b[0m: FailedGetAttr"
     ]
    }
   ],
   "source": [
    "list_objs = ['crappy_input']\n",
    "ret = recurse_getattr(lib, list_objs)\n",
    "ret"
   ]
  },
  {
   "cell_type": "markdown",
   "metadata": {},
   "source": [
    "#### Setup\n",
    "\n",
    "https://stackoverflow.com/questions/6463918/how-can-i-get-a-list-of-all-the-python-standard-library-modules"
   ]
  },
  {
   "cell_type": "code",
   "execution_count": 191,
   "metadata": {},
   "outputs": [
    {
     "data": {
      "text/plain": [
       "518"
      ]
     },
     "execution_count": 191,
     "metadata": {},
     "output_type": "execute_result"
    }
   ],
   "source": [
    "builtin_names = dir(__builtins__)\n",
    "\n",
    "p = site.getsitepackages()\n",
    "fns = os.listdir(p[0])\n",
    "sitepkg_names = [fn.replace('.py','') for fn in fns \n",
    "                 if '-' not in fn]\n",
    "\n",
    "std_lib = sysconfig.get_python_lib(standard_lib=True)\n",
    "stdlib_names = [e.replace('.py','') for e in os.listdir(std_lib)] \n",
    "\n",
    "skip_names = builtin_names + sitepkg_names + stdlib_names\n",
    "\n",
    "len(skip_names)"
   ]
  },
  {
   "cell_type": "markdown",
   "metadata": {},
   "source": [
    "#### Main"
   ]
  },
  {
   "cell_type": "code",
   "execution_count": 235,
   "metadata": {},
   "outputs": [],
   "source": [
    "q = 'ss'"
   ]
  },
  {
   "cell_type": "code",
   "execution_count": 236,
   "metadata": {},
   "outputs": [
    {
     "data": {
      "text/plain": [
       "'ss'"
      ]
     },
     "execution_count": 236,
     "metadata": {},
     "output_type": "execute_result"
    }
   ],
   "source": [
    "q.lower()"
   ]
  },
  {
   "cell_type": "code",
   "execution_count": 242,
   "metadata": {},
   "outputs": [],
   "source": [
    "def walk_match(search_term, \n",
    "               lib, \n",
    "               b_case_sensitive=True,\n",
    "               b_skip=True, \n",
    "               b_print=True,\n",
    "               max_depth=7):\n",
    "    \n",
    "    global_match   = []\n",
    "    clean_skip_names = [e for e in skip_names \n",
    "                        if search_term not in e]\n",
    "    \n",
    "    if b_case_sensitive:\n",
    "        def case(s): return s\n",
    "    else: \n",
    "        def case(s): return s.lower()\n",
    "    \n",
    "    def inner(list_objs, depth_counter=0):\n",
    "        \n",
    "        nonlocal global_match\n",
    "        nonlocal clean_skip_names\n",
    "\n",
    "        obj = recurse_getattr(lib, list_objs )\n",
    "\n",
    "        def nonprivate(e):\n",
    "            if len(e) < 1: return False\n",
    "            return e[0] != '_'\n",
    "\n",
    "        children = [e for e in dir(obj) if nonprivate(e)]\n",
    "\n",
    "        for child in children:\n",
    "\n",
    "            if b_skip:\n",
    "                if child in clean_skip_names: \n",
    "                    continue\n",
    "\n",
    "            sub_list_objs = copy.copy(list_objs)\n",
    "            sub_list_objs += [child]\n",
    "\n",
    "            if case(search_term) in case(child):\n",
    "                global_match.append(sub_list_objs)\n",
    "                if b_print: print(sub_list_objs)\n",
    "\n",
    "            current = recurse_getattr(lib, sub_list_objs)\n",
    "\n",
    "            if isinstance(current, types.ModuleType):\n",
    "                if depth_counter < max_depth:\n",
    "                    inner(sub_list_objs, depth_counter + 1)\n",
    "    \n",
    "    inner([], 0)\n",
    "    \n",
    "    return global_match"
   ]
  },
  {
   "cell_type": "markdown",
   "metadata": {},
   "source": [
    "#### Examples"
   ]
  },
  {
   "cell_type": "code",
   "execution_count": 214,
   "metadata": {},
   "outputs": [],
   "source": [
    "lib_name = 'spacy'\n",
    "lib = importlib.import_module(lib_name)"
   ]
  },
  {
   "cell_type": "code",
   "execution_count": 215,
   "metadata": {},
   "outputs": [
    {
     "name": "stdout",
     "output_type": "stream",
     "text": [
      "['lang', 'tokenizer_exceptions']\n",
      "['pipeline', 'functions', 'merge_subtokens']\n",
      "['pipeline', 'merge_subtokens']\n",
      "['tokenizer']\n",
      "['tokens']\n",
      "['tokens', 'doc', 'Retokenizer']\n",
      "['tokens', 'token']\n",
      "CPU times: user 2.31 s, sys: 15.6 ms, total: 2.33 s\n",
      "Wall time: 2.3 s\n"
     ]
    }
   ],
   "source": [
    "%%time\n",
    "matches = walk_match('token', lib, max_depth=7)"
   ]
  },
  {
   "cell_type": "code",
   "execution_count": 216,
   "metadata": {},
   "outputs": [
    {
     "name": "stdout",
     "output_type": "stream",
     "text": [
      "['lang', 'tokenizer_exceptions']\n",
      "['pipeline', 'functions', 'merge_subtokens']\n",
      "['pipeline', 'merge_subtokens']\n",
      "['tokenizer']\n",
      "['tokens']\n",
      "['tokens', 'doc', 'Retokenizer']\n",
      "['tokens', 'token']\n",
      "CPU times: user 9.55 s, sys: 0 ns, total: 9.55 s\n",
      "Wall time: 9.63 s\n"
     ]
    }
   ],
   "source": [
    "%%time\n",
    "matches = walk_match('token', lib, max_depth=8)"
   ]
  },
  {
   "cell_type": "markdown",
   "metadata": {},
   "source": [
    "#### Show Case Sensitive ON"
   ]
  },
  {
   "cell_type": "code",
   "execution_count": 233,
   "metadata": {},
   "outputs": [
    {
     "name": "stdout",
     "output_type": "stream",
     "text": [
      "['models', 'detection', 'faster_rcnn']\n",
      "['models', 'detection', 'faster_rcnn', 'fasterrcnn_resnet50_fpn']\n",
      "['models', 'detection', 'fasterrcnn_resnet50_fpn']\n",
      "['models', 'detection', 'generalized_rcnn']\n",
      "['models', 'detection', 'keypoint_rcnn']\n",
      "['models', 'detection', 'keypoint_rcnn', 'keypointrcnn_resnet50_fpn']\n",
      "['models', 'detection', 'keypointrcnn_resnet50_fpn']\n",
      "['models', 'detection', 'mask_rcnn']\n",
      "['models', 'detection', 'mask_rcnn', 'maskrcnn_resnet50_fpn']\n",
      "['models', 'detection', 'maskrcnn_resnet50_fpn']\n",
      "['models', 'detection', 'roi_heads', 'fastrcnn_loss']\n",
      "['models', 'detection', 'roi_heads', 'keypointrcnn_inference']\n",
      "['models', 'detection', 'roi_heads', 'keypointrcnn_loss']\n",
      "['models', 'detection', 'roi_heads', 'maskrcnn_inference']\n",
      "['models', 'detection', 'roi_heads', 'maskrcnn_loss']\n"
     ]
    }
   ],
   "source": [
    "lib_name = 'torchvision'\n",
    "lib = importlib.import_module(lib_name)\n",
    "matches = walk_match('cnn', lib)"
   ]
  },
  {
   "cell_type": "code",
   "execution_count": 234,
   "metadata": {},
   "outputs": [
    {
     "name": "stdout",
     "output_type": "stream",
     "text": [
      "['models', 'detection', 'FasterRCNN']\n",
      "['models', 'detection', 'KeypointRCNN']\n",
      "['models', 'detection', 'MaskRCNN']\n",
      "['models', 'detection', 'faster_rcnn', 'FastRCNNPredictor']\n",
      "['models', 'detection', 'faster_rcnn', 'FasterRCNN']\n",
      "['models', 'detection', 'faster_rcnn', 'GeneralizedRCNN']\n",
      "['models', 'detection', 'faster_rcnn', 'GeneralizedRCNNTransform']\n",
      "['models', 'detection', 'generalized_rcnn', 'GeneralizedRCNN']\n",
      "['models', 'detection', 'keypoint_rcnn', 'FasterRCNN']\n",
      "['models', 'detection', 'keypoint_rcnn', 'KeypointRCNN']\n",
      "['models', 'detection', 'keypoint_rcnn', 'KeypointRCNNHeads']\n",
      "['models', 'detection', 'keypoint_rcnn', 'KeypointRCNNPredictor']\n",
      "['models', 'detection', 'mask_rcnn', 'FasterRCNN']\n",
      "['models', 'detection', 'mask_rcnn', 'MaskRCNN']\n",
      "['models', 'detection', 'mask_rcnn', 'MaskRCNNHeads']\n",
      "['models', 'detection', 'mask_rcnn', 'MaskRCNNPredictor']\n",
      "['models', 'detection', 'transform', 'GeneralizedRCNNTransform']\n"
     ]
    }
   ],
   "source": [
    "lib_name = 'torchvision'\n",
    "lib = importlib.import_module(lib_name)\n",
    "matches = walk_match('CNN', lib)"
   ]
  },
  {
   "cell_type": "markdown",
   "metadata": {},
   "source": [
    "#### Show Case Sensitive OFF"
   ]
  },
  {
   "cell_type": "code",
   "execution_count": 243,
   "metadata": {},
   "outputs": [
    {
     "name": "stdout",
     "output_type": "stream",
     "text": [
      "['models', 'detection', 'FasterRCNN']\n",
      "['models', 'detection', 'KeypointRCNN']\n",
      "['models', 'detection', 'MaskRCNN']\n",
      "['models', 'detection', 'faster_rcnn']\n",
      "['models', 'detection', 'faster_rcnn', 'FastRCNNPredictor']\n",
      "['models', 'detection', 'faster_rcnn', 'FasterRCNN']\n",
      "['models', 'detection', 'faster_rcnn', 'GeneralizedRCNN']\n",
      "['models', 'detection', 'faster_rcnn', 'GeneralizedRCNNTransform']\n",
      "['models', 'detection', 'faster_rcnn', 'fasterrcnn_resnet50_fpn']\n",
      "['models', 'detection', 'fasterrcnn_resnet50_fpn']\n",
      "['models', 'detection', 'generalized_rcnn']\n",
      "['models', 'detection', 'generalized_rcnn', 'GeneralizedRCNN']\n",
      "['models', 'detection', 'keypoint_rcnn']\n",
      "['models', 'detection', 'keypoint_rcnn', 'FasterRCNN']\n",
      "['models', 'detection', 'keypoint_rcnn', 'KeypointRCNN']\n",
      "['models', 'detection', 'keypoint_rcnn', 'KeypointRCNNHeads']\n",
      "['models', 'detection', 'keypoint_rcnn', 'KeypointRCNNPredictor']\n",
      "['models', 'detection', 'keypoint_rcnn', 'keypointrcnn_resnet50_fpn']\n",
      "['models', 'detection', 'keypointrcnn_resnet50_fpn']\n",
      "['models', 'detection', 'mask_rcnn']\n",
      "['models', 'detection', 'mask_rcnn', 'FasterRCNN']\n",
      "['models', 'detection', 'mask_rcnn', 'MaskRCNN']\n",
      "['models', 'detection', 'mask_rcnn', 'MaskRCNNHeads']\n",
      "['models', 'detection', 'mask_rcnn', 'MaskRCNNPredictor']\n",
      "['models', 'detection', 'mask_rcnn', 'maskrcnn_resnet50_fpn']\n",
      "['models', 'detection', 'maskrcnn_resnet50_fpn']\n",
      "['models', 'detection', 'roi_heads', 'fastrcnn_loss']\n",
      "['models', 'detection', 'roi_heads', 'keypointrcnn_inference']\n",
      "['models', 'detection', 'roi_heads', 'keypointrcnn_loss']\n",
      "['models', 'detection', 'roi_heads', 'maskrcnn_inference']\n",
      "['models', 'detection', 'roi_heads', 'maskrcnn_loss']\n",
      "['models', 'detection', 'transform', 'GeneralizedRCNNTransform']\n"
     ]
    }
   ],
   "source": [
    "lib_name = 'torchvision'\n",
    "lib = importlib.import_module(lib_name)\n",
    "matches = walk_match('cnn', lib, b_case_sensitive=False)"
   ]
  },
  {
   "cell_type": "code",
   "execution_count": 244,
   "metadata": {},
   "outputs": [
    {
     "name": "stdout",
     "output_type": "stream",
     "text": [
      "['models', 'detection', 'KeypointRCNN']\n",
      "['models', 'detection', 'keypoint_rcnn']\n",
      "['models', 'detection', 'keypoint_rcnn', 'KeypointRCNN']\n",
      "['models', 'detection', 'keypoint_rcnn', 'KeypointRCNNHeads']\n",
      "['models', 'detection', 'keypoint_rcnn', 'KeypointRCNNPredictor']\n",
      "['models', 'detection', 'keypoint_rcnn', 'keypointrcnn_resnet50_fpn']\n",
      "['models', 'detection', 'keypointrcnn_resnet50_fpn']\n",
      "['models', 'detection', 'roi_heads', 'heatmaps_to_keypoints']\n",
      "['models', 'detection', 'roi_heads', 'keypointrcnn_inference']\n",
      "['models', 'detection', 'roi_heads', 'keypointrcnn_loss']\n",
      "['models', 'detection', 'roi_heads', 'keypoints_to_heatmap']\n",
      "['models', 'detection', 'transform', 'resize_keypoints']\n"
     ]
    }
   ],
   "source": [
    "matches = walk_match('keypoint', lib, b_case_sensitive=False)"
   ]
  },
  {
   "cell_type": "markdown",
   "metadata": {},
   "source": [
    "#### We can't avoid aliases like `np` doe"
   ]
  },
  {
   "cell_type": "code",
   "execution_count": 220,
   "metadata": {},
   "outputs": [],
   "source": [
    "lib_name = 'sklearn'\n",
    "lib = importlib.import_module(lib_name)"
   ]
  },
  {
   "cell_type": "code",
   "execution_count": 222,
   "metadata": {
    "scrolled": false
   },
   "outputs": [
    {
     "name": "stdout",
     "output_type": "stream",
     "text": [
      "['base', 'np', 'polynomial', 'chebyshev', 'chebvander2d']\n",
      "['base', 'np', 'polynomial', 'hermite', 'hermvander2d']\n",
      "['base', 'np', 'polynomial', 'hermite_e', 'hermevander2d']\n",
      "['base', 'np', 'polynomial', 'laguerre', 'lagvander2d']\n",
      "['base', 'np', 'polynomial', 'legendre', 'legvander2d']\n",
      "['base', 'np', 'polynomial', 'polynomial', 'polyvander2d']\n",
      "['metrics', 'pairwise', 'distance', 'np', 'polynomial', 'chebyshev', 'chebvander2d']\n",
      "['metrics', 'pairwise', 'distance', 'np', 'polynomial', 'hermite', 'hermvander2d']\n",
      "['metrics', 'pairwise', 'distance', 'np', 'polynomial', 'hermite_e', 'hermevander2d']\n",
      "['metrics', 'pairwise', 'distance', 'np', 'polynomial', 'laguerre', 'lagvander2d']\n",
      "['metrics', 'pairwise', 'distance', 'np', 'polynomial', 'legendre', 'legvander2d']\n",
      "['metrics', 'pairwise', 'distance', 'np', 'polynomial', 'polynomial', 'polyvander2d']\n",
      "['metrics', 'pairwise', 'np', 'polynomial', 'chebyshev', 'chebvander2d']\n",
      "['metrics', 'pairwise', 'np', 'polynomial', 'hermite', 'hermvander2d']\n",
      "['metrics', 'pairwise', 'np', 'polynomial', 'hermite_e', 'hermevander2d']\n",
      "['metrics', 'pairwise', 'np', 'polynomial', 'laguerre', 'lagvander2d']\n",
      "['metrics', 'pairwise', 'np', 'polynomial', 'legendre', 'legvander2d']\n",
      "['metrics', 'pairwise', 'np', 'polynomial', 'polynomial', 'polyvander2d']\n",
      "['metrics', 'r2_score']\n",
      "['utils', 'arrayfuncs', 'np', 'polynomial', 'chebyshev', 'chebvander2d']\n",
      "['utils', 'arrayfuncs', 'np', 'polynomial', 'hermite', 'hermvander2d']\n",
      "['utils', 'arrayfuncs', 'np', 'polynomial', 'hermite_e', 'hermevander2d']\n",
      "['utils', 'arrayfuncs', 'np', 'polynomial', 'laguerre', 'lagvander2d']\n",
      "['utils', 'arrayfuncs', 'np', 'polynomial', 'legendre', 'legvander2d']\n",
      "['utils', 'arrayfuncs', 'np', 'polynomial', 'polynomial', 'polyvander2d']\n",
      "['utils', 'class_weight', 'np', 'polynomial', 'chebyshev', 'chebvander2d']\n",
      "['utils', 'class_weight', 'np', 'polynomial', 'hermite', 'hermvander2d']\n",
      "['utils', 'class_weight', 'np', 'polynomial', 'hermite_e', 'hermevander2d']\n",
      "['utils', 'class_weight', 'np', 'polynomial', 'laguerre', 'lagvander2d']\n",
      "['utils', 'class_weight', 'np', 'polynomial', 'legendre', 'legvander2d']\n",
      "['utils', 'class_weight', 'np', 'polynomial', 'polynomial', 'polyvander2d']\n",
      "['utils', 'extmath', 'linalg', 'blas', 'cher2']\n",
      "['utils', 'extmath', 'linalg', 'blas', 'cher2k']\n",
      "['utils', 'extmath', 'linalg', 'blas', 'chpr2']\n",
      "['utils', 'extmath', 'linalg', 'blas', 'csyr2k']\n",
      "['utils', 'extmath', 'linalg', 'blas', 'dspr2']\n",
      "['utils', 'extmath', 'linalg', 'blas', 'dsyr2']\n",
      "['utils', 'extmath', 'linalg', 'blas', 'dsyr2k']\n",
      "['utils', 'extmath', 'linalg', 'blas', 'sspr2']\n",
      "['utils', 'extmath', 'linalg', 'blas', 'ssyr2']\n",
      "['utils', 'extmath', 'linalg', 'blas', 'ssyr2k']\n",
      "['utils', 'extmath', 'linalg', 'blas', 'zher2']\n",
      "['utils', 'extmath', 'linalg', 'blas', 'zher2k']\n",
      "['utils', 'extmath', 'linalg', 'blas', 'zhpr2']\n",
      "['utils', 'extmath', 'linalg', 'blas', 'zsyr2k']\n",
      "['utils', 'extmath', 'np', 'polynomial', 'chebyshev', 'chebvander2d']\n",
      "['utils', 'extmath', 'np', 'polynomial', 'hermite', 'hermvander2d']\n",
      "['utils', 'extmath', 'np', 'polynomial', 'hermite_e', 'hermevander2d']\n",
      "['utils', 'extmath', 'np', 'polynomial', 'laguerre', 'lagvander2d']\n",
      "['utils', 'extmath', 'np', 'polynomial', 'legendre', 'legvander2d']\n",
      "['utils', 'extmath', 'np', 'polynomial', 'polynomial', 'polyvander2d']\n",
      "['utils', 'fixes', 'np', 'polynomial', 'chebyshev', 'chebvander2d']\n",
      "['utils', 'fixes', 'np', 'polynomial', 'hermite', 'hermvander2d']\n",
      "['utils', 'fixes', 'np', 'polynomial', 'hermite_e', 'hermevander2d']\n",
      "['utils', 'fixes', 'np', 'polynomial', 'laguerre', 'lagvander2d']\n",
      "['utils', 'fixes', 'np', 'polynomial', 'legendre', 'legvander2d']\n",
      "['utils', 'fixes', 'np', 'polynomial', 'polynomial', 'polyvander2d']\n",
      "['utils', 'metaestimators', 'np', 'polynomial', 'chebyshev', 'chebvander2d']\n",
      "['utils', 'metaestimators', 'np', 'polynomial', 'hermite', 'hermvander2d']\n",
      "['utils', 'metaestimators', 'np', 'polynomial', 'hermite_e', 'hermevander2d']\n",
      "['utils', 'metaestimators', 'np', 'polynomial', 'laguerre', 'lagvander2d']\n",
      "['utils', 'metaestimators', 'np', 'polynomial', 'legendre', 'legvander2d']\n",
      "['utils', 'metaestimators', 'np', 'polynomial', 'polynomial', 'polyvander2d']\n",
      "['utils', 'multiclass', 'np', 'polynomial', 'chebyshev', 'chebvander2d']\n",
      "['utils', 'multiclass', 'np', 'polynomial', 'hermite', 'hermvander2d']\n",
      "['utils', 'multiclass', 'np', 'polynomial', 'hermite_e', 'hermevander2d']\n",
      "['utils', 'multiclass', 'np', 'polynomial', 'laguerre', 'lagvander2d']\n",
      "['utils', 'multiclass', 'np', 'polynomial', 'legendre', 'legvander2d']\n",
      "['utils', 'multiclass', 'np', 'polynomial', 'polynomial', 'polyvander2d']\n",
      "['utils', 'np', 'polynomial', 'chebyshev', 'chebvander2d']\n",
      "['utils', 'np', 'polynomial', 'hermite', 'hermvander2d']\n",
      "['utils', 'np', 'polynomial', 'hermite_e', 'hermevander2d']\n",
      "['utils', 'np', 'polynomial', 'laguerre', 'lagvander2d']\n",
      "['utils', 'np', 'polynomial', 'legendre', 'legvander2d']\n",
      "['utils', 'np', 'polynomial', 'polynomial', 'polyvander2d']\n",
      "['utils', 'optimize', 'np', 'polynomial', 'chebyshev', 'chebvander2d']\n",
      "['utils', 'optimize', 'np', 'polynomial', 'hermite', 'hermvander2d']\n",
      "['utils', 'optimize', 'np', 'polynomial', 'hermite_e', 'hermevander2d']\n",
      "['utils', 'optimize', 'np', 'polynomial', 'laguerre', 'lagvander2d']\n",
      "['utils', 'optimize', 'np', 'polynomial', 'legendre', 'legvander2d']\n",
      "['utils', 'optimize', 'np', 'polynomial', 'polynomial', 'polyvander2d']\n",
      "['utils', 'sparsefuncs', 'np', 'polynomial', 'chebyshev', 'chebvander2d']\n",
      "['utils', 'sparsefuncs', 'np', 'polynomial', 'hermite', 'hermvander2d']\n",
      "['utils', 'sparsefuncs', 'np', 'polynomial', 'hermite_e', 'hermevander2d']\n",
      "['utils', 'sparsefuncs', 'np', 'polynomial', 'laguerre', 'lagvander2d']\n",
      "['utils', 'sparsefuncs', 'np', 'polynomial', 'legendre', 'legvander2d']\n",
      "['utils', 'sparsefuncs', 'np', 'polynomial', 'polynomial', 'polyvander2d']\n",
      "['utils', 'sparsefuncs_fast', 'np', 'polynomial', 'chebyshev', 'chebvander2d']\n",
      "['utils', 'sparsefuncs_fast', 'np', 'polynomial', 'hermite', 'hermvander2d']\n",
      "['utils', 'sparsefuncs_fast', 'np', 'polynomial', 'hermite_e', 'hermevander2d']\n",
      "['utils', 'sparsefuncs_fast', 'np', 'polynomial', 'laguerre', 'lagvander2d']\n",
      "['utils', 'sparsefuncs_fast', 'np', 'polynomial', 'legendre', 'legvander2d']\n",
      "['utils', 'sparsefuncs_fast', 'np', 'polynomial', 'polynomial', 'polyvander2d']\n",
      "['utils', 'validation', 'np', 'polynomial', 'chebyshev', 'chebvander2d']\n",
      "['utils', 'validation', 'np', 'polynomial', 'hermite', 'hermvander2d']\n",
      "['utils', 'validation', 'np', 'polynomial', 'hermite_e', 'hermevander2d']\n",
      "['utils', 'validation', 'np', 'polynomial', 'laguerre', 'lagvander2d']\n",
      "['utils', 'validation', 'np', 'polynomial', 'legendre', 'legvander2d']\n",
      "['utils', 'validation', 'np', 'polynomial', 'polynomial', 'polyvander2d']\n"
     ]
    }
   ],
   "source": [
    "matches = walk_match('r2', lib, max_depth=6)"
   ]
  },
  {
   "cell_type": "code",
   "execution_count": 221,
   "metadata": {},
   "outputs": [
    {
     "name": "stdout",
     "output_type": "stream",
     "text": [
      "['metrics', 'accuracy_score']\n",
      "['metrics', 'adjusted_mutual_info_score']\n",
      "['metrics', 'adjusted_rand_score']\n",
      "['metrics', 'average_precision_score']\n",
      "['metrics', 'balanced_accuracy_score']\n",
      "['metrics', 'brier_score_loss']\n",
      "['metrics', 'calinski_harabasz_score']\n",
      "['metrics', 'cluster', 'adjusted_mutual_info_score']\n",
      "['metrics', 'cluster', 'adjusted_rand_score']\n",
      "['metrics', 'cluster', 'calinski_harabasz_score']\n",
      "['metrics', 'cluster', 'completeness_score']\n",
      "['metrics', 'cluster', 'consensus_score']\n",
      "['metrics', 'cluster', 'davies_bouldin_score']\n",
      "['metrics', 'cluster', 'fowlkes_mallows_score']\n",
      "['metrics', 'cluster', 'homogeneity_score']\n",
      "['metrics', 'cluster', 'mutual_info_score']\n",
      "['metrics', 'cluster', 'normalized_mutual_info_score']\n",
      "['metrics', 'cluster', 'silhouette_score']\n",
      "['metrics', 'cluster', 'v_measure_score']\n",
      "['metrics', 'cohen_kappa_score']\n",
      "['metrics', 'completeness_score']\n",
      "['metrics', 'consensus_score']\n",
      "['metrics', 'davies_bouldin_score']\n",
      "['metrics', 'dcg_score']\n",
      "['metrics', 'explained_variance_score']\n",
      "['metrics', 'f1_score']\n",
      "['metrics', 'fbeta_score']\n",
      "['metrics', 'fowlkes_mallows_score']\n",
      "['metrics', 'get_scorer']\n",
      "['metrics', 'homogeneity_score']\n",
      "['metrics', 'jaccard_score']\n",
      "['metrics', 'label_ranking_average_precision_score']\n",
      "['metrics', 'make_scorer']\n",
      "['metrics', 'mutual_info_score']\n",
      "['metrics', 'ndcg_score']\n",
      "['metrics', 'normalized_mutual_info_score']\n",
      "['metrics', 'precision_recall_fscore_support']\n",
      "['metrics', 'precision_score']\n",
      "['metrics', 'r2_score']\n",
      "['metrics', 'recall_score']\n",
      "['metrics', 'roc_auc_score']\n",
      "['metrics', 'silhouette_score']\n",
      "['metrics', 'v_measure_score']\n",
      "['model_selection', 'cross_val_score']\n",
      "['model_selection', 'permutation_test_score']\n"
     ]
    }
   ],
   "source": [
    "matches = walk_match('score', lib, max_depth=6)"
   ]
  }
 ],
 "metadata": {
  "kernelspec": {
   "display_name": "Python 3.7.9 64-bit ('devfastai': conda)",
   "language": "python",
   "name": "python37964bitdevfastaiconda0e0ad516d6eb4524903af3a3c31253d3"
  },
  "language_info": {
   "codemirror_mode": {
    "name": "ipython",
    "version": 3
   },
   "file_extension": ".py",
   "mimetype": "text/x-python",
   "name": "python",
   "nbconvert_exporter": "python",
   "pygments_lexer": "ipython3",
   "version": "3.7.9"
  }
 },
 "nbformat": 4,
 "nbformat_minor": 4
}
